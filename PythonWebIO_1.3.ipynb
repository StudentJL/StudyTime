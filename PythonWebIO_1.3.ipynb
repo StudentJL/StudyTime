{
 "cells": [
  {
   "cell_type": "code",
   "execution_count": 1,
   "id": "74ad0d08",
   "metadata": {},
   "outputs": [],
   "source": [
    "# pip install -U pywebio"
   ]
  },
  {
   "cell_type": "code",
   "execution_count": 2,
   "id": "13fcd56b",
   "metadata": {},
   "outputs": [],
   "source": [
    "# pip install -U https://code.aliyun.com/wang0618/pywebio/repository/archive.zip"
   ]
  },
  {
   "cell_type": "code",
   "execution_count": 1,
   "id": "4dad300a",
   "metadata": {},
   "outputs": [],
   "source": [
    "# Importing needed libraries for generating data and render our plots inline\n",
    "%matplotlib inline\n",
    "%config InlineBackend.figure_format = 'retina'\n",
    "\n",
    "import pandas as pd\n",
    "import math\n",
    "\n",
    "import re\n",
    "\n",
    "df = pd.read_excel(r'cstcourses_grades.xlsx')\n",
    "\n",
    "#df.head()"
   ]
  },
  {
   "cell_type": "code",
   "execution_count": 2,
   "id": "c3d47886",
   "metadata": {},
   "outputs": [],
   "source": [
    "#list of courses we have\n",
    "def list_courses():\n",
    "\n",
    "    courses=set(list(zip(df['Catalog'],df['Label'])))\n",
    "    new_courses=[]\n",
    "    for cat,lab in courses:\n",
    "        new_courses.append(str(cat) +\" \" + lab) \n",
    "    \n",
    "    return new_courses\n",
    "\n",
    "def get_grade(x):\n",
    "    if x==4:\n",
    "        return 'A'\n",
    "    elif x==3:\n",
    "        return 'B'\n",
    "    elif x==2:\n",
    "        return 'C'\n",
    "    else:\n",
    "        return 'D'\n",
    "\n",
    "def get_numberofhours(g):\n",
    "    grade_hours={'A':'''You are more likely to be fine at this class. You still need to study at least 3 hours per week for a grade A.''',\n",
    "                 'B':''' This class will require from you some attention. You need to study at least 5 hours per week for a grade B.''',\n",
    "                 'C':''' This class is challenging. However, studying at least 8 hours per week will save you hope for a grade C.''',\n",
    "                 'D':'''You like to be challenged!!! This class required your full attention. At least 10 hours per week is required for this class for a grade D.'''}\n",
    "    result=grade_hours[g]\n",
    "    return result"
   ]
  },
  {
   "cell_type": "code",
   "execution_count": 3,
   "id": "055b9433",
   "metadata": {},
   "outputs": [],
   "source": [
    "reg=r'[0-9]{4}'\n",
    "\n",
    "grade_numbers={'A':4,'B':3,'C':2,'D':1}\n",
    "courses_performance={}\n",
    "courses=list_courses()\n",
    "for element in courses:\n",
    "    res=re.findall(reg,element)\n",
    "    item=int(res[0])\n",
    "    cond=(df['Catalog']==item)\n",
    "    subset=df[cond]\n",
    "    my_sum=0\n",
    "    my_avg=0\n",
    "    for grade in subset['Grade']:\n",
    "        my_sum +=grade_numbers[grade]\n",
    "    my_avg=int(my_sum/len(subset['Grade']))\n",
    "    courses_performance[item]={}\n",
    "    courses_performance[item]['Grade']=get_grade(my_avg)\n",
    "    courses_performance[item]['Notes']=get_numberofhours(courses_performance[item]['Grade'])\n",
    "# print(courses_performance)\n"
   ]
  },
  {
   "cell_type": "code",
   "execution_count": 4,
   "id": "6c75f384",
   "metadata": {},
   "outputs": [],
   "source": [
    "def check_existant(c):\n",
    "    if c not in courses_performance.keys():\n",
    "        return False\n",
    "    return True"
   ]
  },
  {
   "cell_type": "code",
   "execution_count": null,
   "id": "7dabb3b6",
   "metadata": {},
   "outputs": [
    {
     "name": "stdout",
     "output_type": "stream",
     "text": [
      " * Serving Flask app \"__main__\" (lazy loading)\n",
      " * Environment: production\n",
      "   WARNING: This is a development server. Do not use it in a production deployment.\n",
      "   Use a production WSGI server instead.\n",
      " * Debug mode: off\n"
     ]
    },
    {
     "name": "stderr",
     "output_type": "stream",
     "text": [
      " * Running on http://localhost:80/ (Press CTRL+C to quit)\n"
     ]
    }
   ],
   "source": [
    "# A simple request to gather students data\n",
    "from pywebio import *\n",
    "from pywebio.input import *\n",
    "from pywebio.output import *\n",
    "\n",
    "from flask import Flask\n",
    "from pywebio.platform.flask import webio_view\n",
    "from pywebio import STATIC_PATH\n",
    "\n",
    "app = Flask(__name__)\n",
    "\n",
    "def check_classes():\n",
    "    \n",
    "    put_image('https://upload.wikimedia.org/wikipedia/en/3/30/City_Tech.png', width='100px') \n",
    "    put_success('📚 Welcome to StudyTime! This pseudo_app suggests study_hours for City Tech CST classes.')\n",
    "    \n",
    "    student_info = input_group(\"Required information:\", [\n",
    "        input('Input your name', name='student_name', required=True),\n",
    "        select('Which class do you want to inquire about?', options=list_courses(), name='course_code_label', required=True),\n",
    "        radio('Which grade you are aiming for?', options=['A', 'B', 'C', 'D'], inline=True, name='student_grade', required=True), \n",
    "        input('How many hours you study for this class per week in average?', name='student_hours', type=NUMBER, required=True)\n",
    "    ])\n",
    "\n",
    "    reg=r'[0-9]{4}'\n",
    "    res=re.findall(reg, student_info['course_code_label'])\n",
    "    course_code=int(res[0])\n",
    "\n",
    "    top_status = {'A': 3, 'B': 5,\n",
    "                  'C': 8, 'D': 10}\n",
    "    grade_control={'A': 4, 'B': 3,\n",
    "                  'C': 2, 'D': 1}\n",
    "                  \n",
    "    class_dificulty=courses_performance[course_code]['Grade']\n",
    "    if student_info['student_grade'] == class_dificulty:\n",
    "        if student_info['student_hours'] >= top_status[class_dificulty]:\n",
    "            put_text(f\"Since you are aiming for {student_info['student_grade']}, and the class average grade from the previous semesters was also {class_dificulty}, with the numbers of hours you specified, you are safe.\")\n",
    "        else:\n",
    "            put_text('''You need to work more hours per week to pass this class with the grade you want. Here is more information:''', courses_performance[course_code]['Notes'])\n",
    "        \n",
    "    else:\n",
    "        if grade_control[student_info['student_grade']] < grade_control[class_dificulty]:\n",
    "            put_text(f\"This class's average grade is {class_dificulty}. So, you should aim for at least {class_dificulty} or higher.\")\n",
    "        else:\n",
    "            extra_hours=round(top_status[class_dificulty]*(1.3**(grade_control[class_dificulty])))\n",
    "            if student_info['student_hours'] < extra_hours:\n",
    "                put_text('''Your study hours seems to be less than the average number of hours required to get your desired grade: You need at least''',extra_hours, 'hours.')\n",
    "                put_text('''Here is more information about your current class:''', courses_performance[course_code]['Notes'])\n",
    "            else:\n",
    "                put_text('With the hours you specified you are more likely going to get your desired grade. Good Luck!!! 🍀')\n",
    "\n",
    "    put_markdown('Thank you for using StudyTime, %s 😊 \\n\\n[Generate another suggestion](http://localhost/) ' % student_info['student_name']) # this link will only work if the site is reloadable\n",
    "    \n",
    "    textarea('How do you think this tool may be improved?', rows=3) # flaw of textarea: zooming in or having too much content above would cause it to forcibly overlap above content\n",
    "    toast('Thank you for your input!')\n",
    "    \n",
    "app.add_url_rule('/', 'webio_view', webio_view(check_classes), methods=['GET','POST','OPTIONS'])\n",
    "app.run(host=\"localhost\", port=80)\n"
   ]
  },
  {
   "cell_type": "code",
   "execution_count": null,
   "id": "fb36cf42",
   "metadata": {},
   "outputs": [],
   "source": [
    "if __name__ == '__main__':\n",
    "    check_classes()"
   ]
  },
  {
   "cell_type": "code",
   "execution_count": null,
   "id": "341dd671",
   "metadata": {},
   "outputs": [],
   "source": []
  },
  {
   "cell_type": "code",
   "execution_count": null,
   "id": "07ef582b",
   "metadata": {},
   "outputs": [],
   "source": []
  }
 ],
 "metadata": {
  "kernelspec": {
   "display_name": "Python 3",
   "language": "python",
   "name": "python3"
  },
  "language_info": {
   "codemirror_mode": {
    "name": "ipython",
    "version": 3
   },
   "file_extension": ".py",
   "mimetype": "text/x-python",
   "name": "python",
   "nbconvert_exporter": "python",
   "pygments_lexer": "ipython3",
   "version": "3.8.8"
  }
 },
 "nbformat": 4,
 "nbformat_minor": 5
}
